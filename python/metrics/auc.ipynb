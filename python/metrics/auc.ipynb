{
 "cells": [
  {
   "cell_type": "code",
   "execution_count": 6,
   "metadata": {},
   "outputs": [],
   "source": [
    "from sklearn.datasets import load_breast_cancer\n",
    "from sklearn.linear_model import LogisticRegression\n",
    "from sklearn.metrics import roc_auc_score\n",
    "import numpy as np"
   ]
  },
  {
   "cell_type": "code",
   "execution_count": 7,
   "metadata": {},
   "outputs": [
    {
     "data": {
      "text/plain": [
       "0.9945298874266688"
      ]
     },
     "execution_count": 7,
     "metadata": {},
     "output_type": "execute_result"
    }
   ],
   "source": [
    "#sklearrn的计算\n",
    "X, y = load_breast_cancer(return_X_y=True)\n",
    "clf = LogisticRegression(solver=\"liblinear\", random_state=0).fit(X, y)\n",
    "pred = clf.predict_proba(X)[:, 1]\n",
    "roc_auc_score(y, pred)"
   ]
  },
  {
   "cell_type": "code",
   "execution_count": 34,
   "metadata": {},
   "outputs": [
    {
     "name": "stdout",
     "output_type": "stream",
     "text": [
      "569\n",
      "212\n",
      "357\n",
      "212\n",
      "357\n",
      "0.9945298874266688\n"
     ]
    }
   ],
   "source": [
    "#公式计算\n",
    "#需要计算正样本个数、负样本个数、排序的正样本位置数值相加（如果相等则取平均值）\n",
    "score = zip(y,pred)\n",
    "score = sorted(score, key=lambda x:float(x[1])) #从小到大排序\n",
    "pos = 0\n",
    "neg = 0\n",
    "print(len(score))\n",
    "for i in range(len(score)) :\n",
    "    if score[i][0] == 0:\n",
    "        neg +=1\n",
    "    else:\n",
    "        pos +=1\n",
    "print(neg)\n",
    "print(pos)\n",
    "pos_sum=0\n",
    "neg_sum=0\n",
    "pos_add_sum=0\n",
    "i = 0\n",
    "while i < len(score):\n",
    "    j = i+1\n",
    "    if score[i][0] == 0:\n",
    "        neg_sum += 1\n",
    "    if score[i][0] == 1:\n",
    "        pos_sum += 1\n",
    "        pos_add_sum += i\n",
    "    pos_flag = 0\n",
    "    while j <len(score) and score[j][1] == score[i][1]:\n",
    "        if score[i][0] == 0:\n",
    "            neg_sum += 1\n",
    "        if score[i][0] == 1:\n",
    "            pos_sum += 1\n",
    "            pos_flag += 1\n",
    "        j+=1\n",
    "    avg_sum = ((i+j-1)*(j-i)/2)*1.0/(j-i)\n",
    "    pos_add_sum += pos_flag*avg_sum\n",
    "    i = j\n",
    "auc_calcu = (pos_add_sum-(pos_sum*(pos_sum-1)/2))/(pos_sum*neg_sum*1.0)\n",
    "print(neg_num)\n",
    "print(pos_num)\n",
    "print(auc_calcu)\n",
    "        "
   ]
  },
  {
   "cell_type": "code",
   "execution_count": null,
   "metadata": {},
   "outputs": [],
   "source": []
  }
 ],
 "metadata": {
  "kernelspec": {
   "display_name": "Python 3",
   "language": "python",
   "name": "python3"
  },
  "language_info": {
   "codemirror_mode": {
    "name": "ipython",
    "version": 3
   },
   "file_extension": ".py",
   "mimetype": "text/x-python",
   "name": "python",
   "nbconvert_exporter": "python",
   "pygments_lexer": "ipython3",
   "version": "3.6.2"
  }
 },
 "nbformat": 4,
 "nbformat_minor": 4
}
